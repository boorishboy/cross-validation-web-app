{
 "cells": [
  {
   "cell_type": "code",
   "execution_count": 1,
   "id": "marine-girlfriend",
   "metadata": {},
   "outputs": [],
   "source": [
    "import pandas as pd\n",
    "from sklearn import datasets, linear_model\n",
    "from sklearn.model_selection import train_test_split\n",
    "from matplotlib import pyplot as plt\n",
    "import numpy as np\n",
    "import numbers"
   ]
  },
  {
   "cell_type": "code",
   "execution_count": 2,
   "id": "expired-silence",
   "metadata": {},
   "outputs": [],
   "source": [
    "NNLS = 0\n",
    "OLS = 1"
   ]
  },
  {
   "cell_type": "code",
   "execution_count": 3,
   "id": "desirable-exception",
   "metadata": {},
   "outputs": [],
   "source": [
    "def get_mode_name(mode):\n",
    "    '''Return name of the current mode.'''\n",
    "    return ('OLS' if i == OLS else 'NNLS')\n",
    "\n",
    "def get_file_label(mode):\n",
    "    '''Return filesystem-friendly name of the regressand field.'''\n",
    "    return ('Energy' if 'Energy' in mode else 'Cycles')\n",
    "\n",
    "def display_scores(scores):\n",
    "    print(\"Scores:\", scores)\n",
    "    print(\"Mean:\", scores.mean())\n",
    "    print(\"Standard deviation:\", scores.std())"
   ]
  },
  {
   "cell_type": "code",
   "execution_count": 4,
   "id": "heavy-baptist",
   "metadata": {},
   "outputs": [],
   "source": [
    "df = pd.read_csv(\"stats_and_modeling/COMBINED/48/1/0/data-HW-and-TL.csv\")"
   ]
  },
  {
   "cell_type": "code",
   "execution_count": 5,
   "id": "sized-compiler",
   "metadata": {},
   "outputs": [],
   "source": [
    "param_list = ['Executed insns (no MULS)', 'MULS insns', 'Taken branches', 'RAM data reads', 'RAM writes', 'Flash data reads', 'Flash insn reads', 'BL insns', 'PUSH/POP PC/LR']"
   ]
  },
  {
   "cell_type": "code",
   "execution_count": 6,
   "id": "satellite-disabled",
   "metadata": {},
   "outputs": [],
   "source": [
    "target_column = 'HW Cycles (IT adjusted)'"
   ]
  },
  {
   "cell_type": "code",
   "execution_count": 7,
   "id": "stable-machinery",
   "metadata": {},
   "outputs": [],
   "source": [
    "adjust = 1.0"
   ]
  },
  {
   "cell_type": "code",
   "execution_count": 8,
   "id": "exempt-difference",
   "metadata": {},
   "outputs": [],
   "source": [
    "round = 5"
   ]
  },
  {
   "cell_type": "code",
   "execution_count": 9,
   "id": "enormous-potential",
   "metadata": {},
   "outputs": [
    {
     "name": "stdout",
     "output_type": "stream",
     "text": [
      "[8.73163200e+07 1.07736480e+08 5.18880000e+05 4.00933000e+08\n",
      " 4.85280000e+07 3.06888000e+07 1.96536000e+07 1.10808000e+07\n",
      " 4.73133600e+08 1.10771520e+08 1.26065760e+08 9.85972800e+07\n",
      " 4.35984048e+09 7.06290000e+09 7.85467200e+07 4.79568000e+06\n",
      " 3.00807840e+08 4.88630000e+07 3.05136000e+06 2.33052370e+10\n",
      " 1.21296000e+07 1.71552000e+06 2.04345024e+09 1.25347008e+09\n",
      " 3.46752000e+06 1.62528000e+06 3.28766400e+07 9.60000000e+05\n",
      " 4.51644000e+08 1.91541600e+08 1.68254208e+09 9.10933920e+08\n",
      " 4.88007552e+09 9.38337600e+07 2.73515000e+10 3.21152160e+08\n",
      " 1.21051680e+08 2.43754000e+07 2.34907200e+07 5.86128000e+06\n",
      " 5.53805000e+07 7.66747200e+07 5.76350400e+07 1.16400000e+06\n",
      " 1.14739200e+07 3.31665600e+07 5.44980624e+09 2.33492000e+08\n",
      " 4.98379536e+09 2.41238400e+07 1.53757440e+08 1.17700800e+07\n",
      " 7.48320480e+09 8.34768000e+06 8.59372800e+07 9.59155200e+07\n",
      " 7.29811200e+07 3.14754240e+08 2.91341280e+08 3.39794880e+08\n",
      " 2.50866240e+08 1.40255040e+08 6.03558720e+08 2.43208320e+08\n",
      " 1.26459005e+10 3.15273072e+09 1.01198400e+07 5.68432992e+09\n",
      " 5.07580800e+07 6.06576000e+06 3.33648000e+06 7.42608000e+07\n",
      " 7.99459200e+07 2.36592000e+07 1.76649802e+10 6.64193122e+08\n",
      " 6.11598709e+08 1.01802571e+08 9.85954200e+07 3.66282929e+08\n",
      " 3.37750030e+08 1.45034396e+09 1.20613719e+09 8.52443100e+07\n",
      " 7.00453270e+07 1.77708173e+08 1.55437696e+08 7.01418046e+08\n",
      " 8.69555870e+08 1.08712155e+08 1.10486476e+08 3.86996397e+08\n",
      " 4.80724017e+08 1.48473665e+09 1.90339525e+09 8.69221540e+07\n",
      " 1.11471785e+08 1.84613458e+08 2.34362271e+08 4.83646990e+08\n",
      " 6.75459942e+08 9.13491210e+07 1.04230263e+08 2.66156769e+08\n",
      " 3.73292811e+08 9.38293501e+08 1.33664890e+09 5.45898670e+07\n",
      " 7.75543110e+07 1.21226014e+08 1.72037032e+08 4.48138597e+08\n",
      " 6.93704644e+08 8.54597120e+07 1.09841703e+08 2.46442939e+08\n",
      " 3.83472113e+08 8.73395854e+08 1.34961601e+09 5.08649870e+07\n",
      " 7.81861890e+07 1.12554527e+08 1.74935647e+08 6.34652944e+08\n",
      " 5.32377538e+08 9.70369780e+07 9.83838390e+07 3.50020786e+08\n",
      " 2.93850985e+08 1.36030492e+09 9.55143582e+08 7.97398550e+07\n",
      " 5.49318360e+07 1.68333166e+08 1.28480910e+08 6.90509433e+08\n",
      " 6.06856042e+08 1.02774030e+08 1.02973671e+08 3.81044422e+08\n",
      " 3.35203891e+08 1.48103995e+09 1.13135779e+09 8.67774380e+07\n",
      " 6.52572870e+07 1.83274240e+08 1.49650974e+08 6.59469559e+08\n",
      " 6.33793246e+08 9.93204320e+07 1.01830272e+08 3.63807954e+08\n",
      " 3.50197025e+08 1.41769932e+09 1.22781591e+09 8.31275420e+07\n",
      " 7.11046660e+07 1.75238452e+08 1.59518396e+08 6.59479111e+08\n",
      " 6.13088852e+08 9.93261630e+07 9.95339240e+07 3.63785507e+08\n",
      " 3.38680415e+08 1.41793334e+09 1.20629958e+09 8.31337510e+07\n",
      " 7.00262220e+07 1.75237974e+08 1.55390413e+08 8.20868300e+06\n",
      " 6.97812000e+06 2.87760000e+05 2.46446000e+05 1.35397181e+08\n",
      " 1.16207766e+08 1.33159100e+08 1.13753806e+08 1.35432046e+08\n",
      " 1.16299945e+08 8.21919000e+06 6.58313700e+06 2.96595000e+05\n",
      " 2.46207000e+05 1.36307505e+08 1.11019011e+08 1.33571755e+08\n",
      " 1.07833830e+08 1.36244461e+08 1.10901042e+08 7.80868400e+06\n",
      " 5.35544000e+06 2.83700000e+05 2.07282000e+05 1.29765204e+08\n",
      " 9.11681070e+07 1.27024200e+08 8.81047160e+07 1.29675891e+08\n",
      " 9.10625550e+07 2.75435290e+07 3.64574040e+07 6.91149400e+06\n",
      " 9.13190300e+06 1.54826356e+08 2.32044430e+08 2.81782730e+07\n",
      " 3.76244440e+07 9.01789760e+07 1.33159100e+08 1.67903700e+06\n",
      " 2.17002100e+06 2.63867580e+07 3.42818900e+07 2.03347230e+07\n",
      " 3.11213060e+07 5.10780000e+06 7.80295300e+06 1.05737122e+08\n",
      " 1.99051131e+08 2.07449900e+07 3.26303150e+07 6.24795070e+07\n",
      " 1.14959771e+08 1.25515900e+06 1.80966400e+06 1.96073230e+07\n",
      " 2.84770180e+07]\n"
     ]
    }
   ],
   "source": [
    "y = df.loc[:,target_column].values\n",
    "print(y)"
   ]
  },
  {
   "cell_type": "code",
   "execution_count": 10,
   "id": "australian-device",
   "metadata": {},
   "outputs": [],
   "source": [
    "# Adjust the regressand.\n",
    "y = y * adjust"
   ]
  },
  {
   "cell_type": "code",
   "execution_count": 11,
   "id": "rental-intensity",
   "metadata": {},
   "outputs": [],
   "source": [
    "fixed = \"{}\""
   ]
  },
  {
   "cell_type": "code",
   "execution_count": 12,
   "id": "victorian-architect",
   "metadata": {},
   "outputs": [],
   "source": [
    "param_value_dict = eval(fixed)\n",
    "fixed_params = param_value_dict.keys()\n",
    "unconstrained_params = []"
   ]
  },
  {
   "cell_type": "code",
   "execution_count": 13,
   "id": "exotic-architecture",
   "metadata": {},
   "outputs": [],
   "source": [
    "if param_value_dict:\n",
    "    for param in param_list:\n",
    "        if param in fixed_params and isinstance(param_value_dict[param], numbers.Number):\n",
    "            # Subtract the contribution of the param from the Y vector\n",
    "            print('')\n",
    "            print(\"Ratio of residual/original\")\n",
    "            print((y - (df.loc[:,param].values * param_value_dict[param]))/y)\n",
    "            print('')\n",
    "            y = y - (df.loc[:,param].values * param_value_dict[param])\n",
    "        else:\n",
    "            unconstrained_params.append(param)\n",
    "    # Reset param list to the free-running parameters only.\n",
    "    param_list = unconstrained_params\n",
    "else:\n",
    "    pass"
   ]
  },
  {
   "cell_type": "code",
   "execution_count": 26,
   "id": "foreign-throat",
   "metadata": {},
   "outputs": [
    {
     "name": "stdout",
     "output_type": "stream",
     "text": [
      "[[64561161        0  9052161 ... 36368388   303105   299008]\n",
      " [77611017  1081344  4521985 ... 42037252   270337   266240]\n",
      " [  274441        0    69633 ...   184324    12289     8192]\n",
      " ...\n",
      " [ 1241011     4200   136003 ...   708506     1001      600]\n",
      " [13199515  1390200  1507904 ...  7735108     1001      600]\n",
      " [19311311    40200  2117703 ... 11016506     1001      600]]\n"
     ]
    }
   ],
   "source": [
    "x = df.loc[:,param_list].values\n",
    "print(x)"
   ]
  },
  {
   "cell_type": "code",
   "execution_count": 15,
   "id": "increasing-miniature",
   "metadata": {},
   "outputs": [],
   "source": [
    "from sklearn.linear_model import LinearRegression\n",
    "from sklearn.metrics import mean_squared_error\n",
    "from sklearn.metrics import mean_absolute_error\n",
    "from sklearn.metrics import r2_score\n",
    "from sklearn.model_selection import RepeatedKFold\n",
    "from sklearn.model_selection import KFold\n",
    "from sklearn.base import clone"
   ]
  },
  {
   "cell_type": "code",
   "execution_count": 16,
   "id": "absent-break",
   "metadata": {},
   "outputs": [
    {
     "name": "stdout",
     "output_type": "stream",
     "text": [
      "\n",
      "-------Model using Fold No 1-------\n",
      "Coef: [0.98777416 1.00319263 2.00646011 0.99653949 1.00891084 0.99402997\n",
      " 0.01485318 0.92286535 1.03637941]\n",
      "Score: 490659.1926598857\n",
      "R2 Score: 0.9999992604707232\n",
      "\n",
      "-------Model using Fold No 2-------\n",
      "Coef: [0.99385605 1.00344452 2.00746889 0.99819099 1.00534879 0.99537279\n",
      " 0.004107   0.87889436 1.06670761]\n",
      "Score: 1380716.8840697845\n",
      "R2 Score: 0.9999997436135263\n",
      "\n",
      "-------Model using Fold No 3-------\n",
      "Coef: [0.98650345 1.00174827 2.00652426 0.99717642 1.01366091 0.98920752\n",
      " 0.0168086  0.90246316 1.07950319]\n",
      "Score: 909149.7937060053\n",
      "R2 Score: 0.999999753788797\n",
      "\n",
      "-------Model using Fold No 4-------\n",
      "Coef: [0.98899155 0.99975834 2.00049634 0.9987508  1.00257162 0.98858037\n",
      " 0.01388548 0.94788958 1.04377647]\n",
      "Score: 584954.5252588143\n",
      "R2 Score: 0.9999998336440497\n",
      "\n",
      "-------Model using Fold No 5-------\n",
      "Coef: [0.98962122 1.00102727 2.00312652 0.99843005 1.00509811 0.99152094\n",
      " 0.0121476  0.94049977 1.03598358]\n",
      "Score: 43067.3379007102\n",
      "R2 Score: 0.9999999794984502\n",
      "\n",
      "-------Model using Fold No 6-------\n",
      "Coef: [0.99030711 0.99786785 2.001156   1.00271267 0.99126143 0.99288543\n",
      " 0.01117594 0.98070144 1.04814089]\n",
      "Score: 1496670.5928968636\n",
      "R2 Score: 0.9999999553654265\n",
      "\n",
      "-------Model using Fold No 7-------\n",
      "Coef: [0.98909608 1.00019344 2.00279797 0.99841786 1.00509087 0.99154884\n",
      " 0.01316273 0.93985029 1.03778602]\n",
      "Score: 264965.34853819304\n",
      "R2 Score: 0.9999999567547533\n",
      "\n",
      "-------Model using Fold No 8-------\n",
      "Coef: [9.96397908e-01 1.00441380e+00 1.99913197e+00 9.98746275e-01\n",
      " 1.00084154e+00 9.92133618e-01 7.14924893e-04 9.80788357e-01\n",
      " 1.00012946e+00]\n",
      "Score: 1267810.691044506\n",
      "R2 Score: 0.9999998725935377\n",
      "\n",
      "-------Model using Fold No 9-------\n",
      "Coef: [0.98944639 1.00064942 2.00312313 0.99842907 1.00537855 0.99144792\n",
      " 0.01246466 0.93939084 1.03645417]\n",
      "Score: 152120.03581225066\n",
      "R2 Score: 0.9999997965381866\n",
      "\n",
      "-------Model using Fold No 10-------\n",
      "Coef: [0.98960642 1.001042   2.00310905 0.99840959 1.00508358 0.99154688\n",
      " 0.0121769  0.94058503 1.03608601]\n",
      "Score: 48306.98848294912\n",
      "R2 Score: 0.999999907297556\n"
     ]
    }
   ],
   "source": [
    "regressor = LinearRegression(fit_intercept=False)\n",
    "rkf = RepeatedKFold(n_splits=10, n_repeats=1, random_state=None)\n",
    "scrs = []\n",
    "count = 0\n",
    "for train_index, test_index in rkf.split(x):\n",
    "    clone_regressor = clone(regressor)\n",
    "    #print(\"Train:\", train_index, \"\\nValidation:\", test_index)\n",
    "    X_train, X_test = x[train_index], x[test_index]\n",
    "    y_train, y_test = y[train_index], y[test_index]\n",
    "    clone_regressor.fit(X_train,y_train)\n",
    "    y_pred = clone_regressor.predict(X_test)\n",
    "    mse = mean_squared_error(y_test,y_pred)\n",
    "    rmse = np.sqrt(mse)\n",
    "    scrs.append(rmse)\n",
    "    count = count + 1;\n",
    "    print(\"\")\n",
    "    print(\"-------Model using Fold No \" + str(count) + \"-------\")\n",
    "    print(\"Coef: \" + str(clone_regressor.coef_))\n",
    "    print (\"Score: \" + str(rmse))\n",
    "    print (\"R2 Score: \" +  str(r2_score(y_test, y_pred)))"
   ]
  },
  {
   "cell_type": "code",
   "execution_count": 17,
   "id": "developed-norfolk",
   "metadata": {},
   "outputs": [
    {
     "name": "stdout",
     "output_type": "stream",
     "text": [
      "Scores: [ 490659.19265989 1380716.88406978  909149.79370601  584954.52525881\n",
      "   43067.33790071 1496670.59289686  264965.34853819 1267810.69104451\n",
      "  152120.03581225   48306.98848295]\n",
      "Mean: 663842.1390369962\n",
      "Standard deviation: 534218.0415918153\n"
     ]
    }
   ],
   "source": [
    "scrs_array = np.asarray(scrs)\n",
    "display_scores(scrs_array)"
   ]
  },
  {
   "cell_type": "code",
   "execution_count": 18,
   "id": "short-sunset",
   "metadata": {},
   "outputs": [
    {
     "name": "stdout",
     "output_type": "stream",
     "text": [
      "Scores: [ 586006.57272413 1570941.83569659 2498356.61550217 1271106.334445\n",
      "  174371.71746824  103857.87057609  165611.47428437  119682.43460323\n",
      "   52809.12027529   30558.75104579]\n",
      "Mean: 657330.272662089\n",
      "Standard deviation: 802159.1993910861\n"
     ]
    }
   ],
   "source": [
    "from sklearn.model_selection import cross_val_score\n",
    "# Evaluate score by cross validation\n",
    "regressor2 = LinearRegression(fit_intercept=False)\n",
    "scores = cross_val_score(regressor2, x, y, scoring=\"neg_mean_squared_error\", cv=10)\n",
    "try:\n",
    "    rmse_scores = np.sqrt(-scores)\n",
    "except:\n",
    "    print(\"### np.sqrt(-scores) failed, scores = \" + str(scores))\n",
    "display_scores(rmse_scores)"
   ]
  },
  {
   "cell_type": "code",
   "execution_count": 19,
   "id": "persistent-organization",
   "metadata": {},
   "outputs": [],
   "source": [
    "coefs = [None] * 2\n",
    "predicted = [None] * 2\n",
    "outliers = [None] * 2"
   ]
  },
  {
   "cell_type": "code",
   "execution_count": 20,
   "id": "opening-process",
   "metadata": {},
   "outputs": [
    {
     "name": "stdout",
     "output_type": "stream",
     "text": [
      "\n",
      "-------Final Model using all data  -------\n",
      "['Executed insns (no MULS)', 'MULS insns', 'Taken branches', 'RAM data reads', 'RAM writes', 'Flash data reads', 'Flash insn reads', 'BL insns', 'PUSH/POP PC/LR']\n",
      "[0.98963003 1.001042   2.00309931 0.99842728 1.00505224 0.99153485 0.01213653 0.94068954 1.03602931]\n"
     ]
    }
   ],
   "source": [
    "print(\"\")\n",
    "print(\"-------Final Model using all data  -------\")\n",
    "regressor3 = LinearRegression(fit_intercept=False)\n",
    "regressor3.fit(x, y)\n",
    "pred = regressor3.predict(x)\n",
    "#print(\"predict(x) [len(predict(x)) = %d] = %s\" % (len(pred), str(pred)))\n",
    "print(param_list)\n",
    "with np.printoptions(linewidth=200):\n",
    "    print(regressor3.coef_)\n",
    "coefs[OLS] = regressor3.coef_\n",
    "predicted[OLS] = pred"
   ]
  },
  {
   "cell_type": "code",
   "execution_count": 21,
   "id": "answering-officer",
   "metadata": {},
   "outputs": [
    {
     "name": "stdout",
     "output_type": "stream",
     "text": [
      "Coefficients constrained to non-negative values, least-squares method\n",
      "['Executed insns (no MULS)', 'MULS insns', 'Taken branches', 'RAM data reads', 'RAM writes', 'Flash data reads', 'Flash insn reads', 'BL insns', 'PUSH/POP PC/LR']\n",
      "[0.98963 1.00104 2.0031  0.99843 1.00505 0.99153 0.01214 0.94069 1.03603]\n"
     ]
    }
   ],
   "source": [
    "# Use constrained non-negative coefficients\n",
    "\n",
    "print(\"Coefficients constrained to non-negative values, least-squares method\")\n",
    "from scipy.optimize import lsq_linear\n",
    "\n",
    "lb = 0\n",
    "ub = np.Inf\n",
    "res = lsq_linear(x, y, bounds=(lb, ub))\n",
    "\n",
    "# Round the coefficients if requested to.\n",
    "print(param_list)\n",
    "if round is not None:\n",
    "    res.x = np.round(res.x, round)\n",
    "\n",
    "with np.printoptions(linewidth=200):\n",
    "    print(res.x)"
   ]
  },
  {
   "cell_type": "code",
   "execution_count": 22,
   "id": "polar-central",
   "metadata": {},
   "outputs": [],
   "source": [
    "coefs[NNLS] = res.x\n",
    "predicted[NNLS] = np.dot(x, res.x)"
   ]
  },
  {
   "cell_type": "code",
   "execution_count": 23,
   "id": "serial-barrier",
   "metadata": {},
   "outputs": [],
   "source": [
    "threshold = 5 / 100.0"
   ]
  },
  {
   "cell_type": "code",
   "execution_count": 24,
   "id": "duplicate-malaysia",
   "metadata": {},
   "outputs": [],
   "source": [
    "mean_abs_percentage_error = [None] * 2\n",
    "percentage_error_vect = [None] * 2\n",
    "mean_percentage_error = [None] * 2\n",
    "median_percentage_error = [None] * 2\n",
    "mean_squared_RE = [None] * 2\n",
    "rmsre = [None] * 2\n",
    "stddev_abs_percentage_error = [None] * 2\n",
    "stddev_relative_error = [None] * 2\n",
    "mse = [None] * 2\n",
    "rmse = [None] * 2"
   ]
  },
  {
   "cell_type": "code",
   "execution_count": 25,
   "id": "incorporated-contrast",
   "metadata": {},
   "outputs": [
    {
     "name": "stdout",
     "output_type": "stream",
     "text": [
      "MAPE_NNLS = 0.08754%\n",
      "MEAN(percentage_error_NNLS) = 0.06642%\n",
      "MEDIAN(percentage_error_NNLS) = 0.01757%\n",
      "rootMSRE_NNLS = 0.29271%\n",
      "STDDEV(MAPE_NNLS) = 0.28585%\n",
      "STDDEV(percentage_error_NNLS) = 0.28507%\n",
      "RMSE Score NNLS:[334206.27722814295, None]\n",
      "R2 Score NNLS:0.9999999866274003\n",
      "List of 0/229 outliers using NNLS at threshold 5.00% (predicted, actual, error in %):\n",
      "=================================================\n",
      "MAPE_OLS = 0.08749%\n",
      "MEAN(percentage_error_OLS) = 0.06627%\n",
      "MEDIAN(percentage_error_OLS) = 0.01742%\n",
      "rootMSRE_OLS = 0.29267%\n",
      "STDDEV(MAPE_OLS) = 0.28586%\n",
      "STDDEV(percentage_error_OLS) = 0.28507%\n",
      "RMSE Score OLS:[334206.27722814295, 334180.41482944106]\n",
      "R2 Score OLS:0.99999998662947\n",
      "List of 0/229 outliers using OLS at threshold 5.00% (predicted, actual, error in %):\n",
      "=================================================\n"
     ]
    }
   ],
   "source": [
    "for i in [NNLS, OLS]:\n",
    "    outliers[i] = [ (bench, predicted, actual, 100*(predicted - actual)/actual) if abs(predicted - actual)/actual > threshold else None for (bench, predicted, actual) in zip(df.loc[:,'Bench'], predicted[i], y) ]\n",
    "\n",
    "    # Determine and print mean(abs(relative error)).\n",
    "    mean_abs_percentage_error[i] = mean_absolute_error(y/y, predicted[i]/y)\n",
    "    print (\"MAPE_%s = %.5f%%\" % (get_mode_name(i), mean_abs_percentage_error[i] * 100.0))\n",
    "\n",
    "    # Determine and print mean(percentage error).\n",
    "    percentage_error_vect[i] = predicted[i]/y - y/y\n",
    "    mean_percentage_error[i] = (percentage_error_vect[i]).mean()\n",
    "    print (\"MEAN(percentage_error_%s) = %.5f%%\" % (get_mode_name(i), mean_percentage_error[i] * 100.0))\n",
    "\n",
    "    # Determine and print the median error.\n",
    "    median_percentage_error[i] = np.median(percentage_error_vect[i])\n",
    "    print (\"MEDIAN(percentage_error_%s) = %.5f%%\" % (get_mode_name(i), median_percentage_error[i] * 100.0))\n",
    "\n",
    "    # Determine and print root of mean square relative error.\n",
    "    mean_squared_RE[i] =  mean_squared_error(y/y, predicted[i]/y)\n",
    "    rmsre[i] =  np.sqrt(mean_squared_RE[i])\n",
    "    print (\"rootMSRE_%s = %.5f%%\" % (get_mode_name(i), rmsre[i] * 100.0))\n",
    "\n",
    "    stddev_abs_percentage_error[i] = np.sqrt(mean_squared_error(np.full(y.shape, mean_abs_percentage_error[i]), predicted[i]/y - np.full(y.shape, 1.0)))\n",
    "    print (\"STDDEV(MAPE_%s) = %.5f%%\" % (get_mode_name(i), stddev_abs_percentage_error[i] * 100.0))\n",
    "\n",
    "    stddev_relative_error[i] = np.sqrt(mean_squared_error(np.full(y.shape, mean_percentage_error[i]), predicted[i]/y - np.full(y.shape, 1.0)))\n",
    "    print (\"STDDEV(percentage_error_%s) = %.5f%%\" % (get_mode_name(i), stddev_relative_error[i] * 100.0))\n",
    "\n",
    "    mse[i] = mean_squared_error(y, predicted[i])\n",
    "    rmse[i] = np.sqrt(mse[i])\n",
    "    print ((\"RMSE Score %s:\" % get_mode_name(i)) + str(rmse))\n",
    "    print ((\"R2 Score %s:\" % get_mode_name(i)) +  str(r2_score(y, predicted[i])))\n",
    "\n",
    "    print(\"List of %d/%d outliers using %s at threshold %.2f%% (predicted, actual, error in %%):\" % (len(list(filter(None, outliers[i]))), len(outliers[i]), get_mode_name(i), threshold*100.0))\n",
    "    print(\"=================================================\")\n",
    "    [ print(\"%s: %.9f, %.9f, %5.2f%%\" % elt) if elt else None for elt in outliers[i] ]\n"
   ]
  },
  {
   "cell_type": "code",
   "execution_count": null,
   "id": "innocent-contrary",
   "metadata": {},
   "outputs": [],
   "source": []
  }
 ],
 "metadata": {
  "kernelspec": {
   "display_name": "Python 3",
   "language": "python",
   "name": "python3"
  },
  "language_info": {
   "codemirror_mode": {
    "name": "ipython",
    "version": 3
   },
   "file_extension": ".py",
   "mimetype": "text/x-python",
   "name": "python",
   "nbconvert_exporter": "python",
   "pygments_lexer": "ipython3",
   "version": "3.9.2"
  }
 },
 "nbformat": 4,
 "nbformat_minor": 5
}
